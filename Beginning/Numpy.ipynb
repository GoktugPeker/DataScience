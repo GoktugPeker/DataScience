{
 "cells": [
  {
   "cell_type": "code",
   "execution_count": 30,
   "id": "3552aca1",
   "metadata": {},
   "outputs": [],
   "source": [
    "import numpy as np"
   ]
  },
  {
   "cell_type": "code",
   "execution_count": 31,
   "id": "2397bfb5",
   "metadata": {},
   "outputs": [
    {
     "data": {
      "text/plain": [
       "array([10, 20, 30, 40])"
      ]
     },
     "execution_count": 31,
     "metadata": {},
     "output_type": "execute_result"
    }
   ],
   "source": [
    "my_list=[10,20,30,40]\n",
    "\n",
    "my_numpy_array=np.array(my_list)\n",
    "\n",
    "my_numpy_array"
   ]
  },
  {
   "cell_type": "code",
   "execution_count": 32,
   "id": "72bbe675",
   "metadata": {},
   "outputs": [
    {
     "data": {
      "text/plain": [
       "np.int64(40)"
      ]
     },
     "execution_count": 32,
     "metadata": {},
     "output_type": "execute_result"
    }
   ],
   "source": [
    "my_numpy_array.max()"
   ]
  },
  {
   "cell_type": "code",
   "execution_count": 33,
   "id": "f72f5371",
   "metadata": {},
   "outputs": [
    {
     "name": "stdout",
     "output_type": "stream",
     "text": [
      "[0.23704506 0.73316236 0.66217003 0.18077577 0.0406158 ]\n"
     ]
    }
   ],
   "source": [
    "rand_array=np.random.random(5)\n",
    "print(rand_array)"
   ]
  },
  {
   "cell_type": "code",
   "execution_count": 34,
   "id": "f41f9394",
   "metadata": {},
   "outputs": [
    {
     "data": {
      "text/plain": [
       "array([4, 7])"
      ]
     },
     "execution_count": 34,
     "metadata": {},
     "output_type": "execute_result"
    }
   ],
   "source": [
    "my_list1=[1,2]\n",
    "my_list2=[3,5]\n",
    "\n",
    "ar_1=np.array(my_list1)\n",
    "ar_2=np.array(my_list2)\n",
    "\n",
    "t=ar_1+ar_2\n",
    "t"
   ]
  },
  {
   "cell_type": "code",
   "execution_count": 35,
   "id": "e62e84b6",
   "metadata": {},
   "outputs": [
    {
     "data": {
      "text/plain": [
       "array([9, 8, 7, 6, 5, 4, 3, 2, 1, 0])"
      ]
     },
     "execution_count": 35,
     "metadata": {},
     "output_type": "execute_result"
    }
   ],
   "source": [
    "np_array=np.arange(0,10)\n",
    "np_array[::-1]"
   ]
  },
  {
   "cell_type": "markdown",
   "id": "171415db",
   "metadata": {},
   "source": [
    "#### MATRIX (ROW*COLUMN)"
   ]
  },
  {
   "cell_type": "code",
   "execution_count": 46,
   "id": "91fa4984",
   "metadata": {},
   "outputs": [
    {
     "data": {
      "text/plain": [
       "array([[ 5, 10],\n",
       "       [15, 20]])"
      ]
     },
     "execution_count": 46,
     "metadata": {},
     "output_type": "execute_result"
    }
   ],
   "source": [
    "my_matrix=[[5,10],[15,20]]\n",
    "\n",
    "np_matrix=np.array(my_matrix)\n",
    "np_matrix\n"
   ]
  },
  {
   "cell_type": "code",
   "execution_count": 47,
   "id": "209df1de",
   "metadata": {},
   "outputs": [
    {
     "data": {
      "text/plain": [
       "np.int64(15)"
      ]
     },
     "execution_count": 47,
     "metadata": {},
     "output_type": "execute_result"
    }
   ],
   "source": [
    "i=np_matrix[1][0]\n",
    "i"
   ]
  },
  {
   "cell_type": "markdown",
   "id": "967924fa",
   "metadata": {},
   "source": [
    "##### Matrix Aritmetic"
   ]
  },
  {
   "cell_type": "code",
   "execution_count": 52,
   "id": "a089b47a",
   "metadata": {},
   "outputs": [
    {
     "data": {
      "text/plain": [
       "array([[ 50, 200],\n",
       "       [450, 800]])"
      ]
     },
     "execution_count": 52,
     "metadata": {},
     "output_type": "execute_result"
    }
   ],
   "source": [
    "first_array=np.array([[10,20],[30,40]])\n",
    "second_array=np.array([[5,10],[15,20]])\n",
    "third_array=np.array([3,5])\n",
    "forth_array=np.array([[8],[5]])\n",
    "\n",
    "sum_array1=first_array+second_array\n",
    "sum_array2=first_array+third_array\n",
    "sum_array3=first_array+forth_array\n",
    "sum_array3\n",
    "\n",
    "m1=first_array*second_array\n",
    "m1"
   ]
  },
  {
   "cell_type": "code",
   "execution_count": 54,
   "id": "f7db8e7c",
   "metadata": {},
   "outputs": [
    {
     "data": {
      "text/plain": [
       "array([52, 49, 15,  3, 67, 92, 55, 80, 91, 99], dtype=int32)"
      ]
     },
     "execution_count": 54,
     "metadata": {},
     "output_type": "execute_result"
    }
   ],
   "source": [
    "new_array=np.random.randint(1,100,10)\n",
    "new_array"
   ]
  },
  {
   "cell_type": "code",
   "execution_count": 55,
   "id": "736127ff",
   "metadata": {},
   "outputs": [
    {
     "data": {
      "text/plain": [
       "array([52, 49, 67, 92, 55, 80, 91, 99], dtype=int32)"
      ]
     },
     "execution_count": 55,
     "metadata": {},
     "output_type": "execute_result"
    }
   ],
   "source": [
    "new_array[new_array>25]"
   ]
  },
  {
   "cell_type": "code",
   "execution_count": null,
   "id": "44baf716",
   "metadata": {},
   "outputs": [
    {
     "data": {
      "text/plain": [
       "array([[10, 30, 50],\n",
       "       [20, 40, 60]])"
      ]
     },
     "execution_count": 62,
     "metadata": {},
     "output_type": "execute_result"
    }
   ],
   "source": [
    "new_matrix=np.array([[10,20],[30,40],[50,60]])\n",
    "\n",
    "new_matrix.T"
   ]
  },
  {
   "cell_type": "code",
   "execution_count": 67,
   "id": "d1b04220",
   "metadata": {},
   "outputs": [
    {
     "data": {
      "text/plain": [
       "array([[0.12740222, 0.84853228],\n",
       "       [0.91778553, 0.95125326],\n",
       "       [0.42148224, 0.04525945],\n",
       "       [0.38490555, 0.36925519],\n",
       "       [0.74787349, 0.04942615],\n",
       "       [0.95652656, 0.82581166],\n",
       "       [0.98092213, 0.06101697],\n",
       "       [0.31444292, 0.07439863],\n",
       "       [0.16556656, 0.11706932],\n",
       "       [0.76049877, 0.00757608],\n",
       "       [0.68923354, 0.96695764],\n",
       "       [0.85453613, 0.70317284],\n",
       "       [0.7253601 , 0.43051577],\n",
       "       [0.67719706, 0.94496819],\n",
       "       [0.41078513, 0.51140184],\n",
       "       [0.07400301, 0.83430632]])"
      ]
     },
     "execution_count": 67,
     "metadata": {},
     "output_type": "execute_result"
    }
   ],
   "source": [
    "new_array2=np.random.random((4,8))\n",
    "new_array2.reshape(16,2)"
   ]
  },
  {
   "cell_type": "markdown",
   "id": "093ff4ad",
   "metadata": {},
   "source": [
    "### Z-Score"
   ]
  },
  {
   "cell_type": "code",
   "execution_count": 71,
   "id": "ba7c206f",
   "metadata": {},
   "outputs": [
    {
     "data": {
      "text/plain": [
       "array([-0.8638871 , -0.7607364 , -0.6575857 , -0.554435  , -0.4512843 ,\n",
       "        0.06446919,  1.09597617,  2.12748315])"
      ]
     },
     "execution_count": 71,
     "metadata": {},
     "output_type": "execute_result"
    }
   ],
   "source": [
    "data=np.array([10,20,30,40,50,100,200,300])\n",
    "\n",
    "mean=np.mean(data)\n",
    "median=np.median(data)\n",
    "std=np.std(data)\n",
    "z_score=(data-mean)/std\n",
    "z_score\n",
    "\n",
    "\n",
    "\n"
   ]
  }
 ],
 "metadata": {
  "kernelspec": {
   "display_name": "dsvenv",
   "language": "python",
   "name": "python3"
  },
  "language_info": {
   "codemirror_mode": {
    "name": "ipython",
    "version": 3
   },
   "file_extension": ".py",
   "mimetype": "text/x-python",
   "name": "python",
   "nbconvert_exporter": "python",
   "pygments_lexer": "ipython3",
   "version": "3.13.6"
  }
 },
 "nbformat": 4,
 "nbformat_minor": 5
}
